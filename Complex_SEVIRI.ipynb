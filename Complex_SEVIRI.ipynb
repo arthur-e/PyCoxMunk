{
 "cells": [
  {
   "cell_type": "markdown",
   "id": "c4a3c5a3",
   "metadata": {},
   "source": [
    "# Example processing script for SEVIRI data\n",
    "### A more complex example than for SLSTR, using a land-mask and ERA5 wind profiles.\n",
    "\n",
    "This script requires MSG/SEVIRI data in native format (although it can be easily edited to use HRIT data instead).\n",
    "\n",
    "Data is available for download at https://data.eumetsat.int\n",
    "\n",
    "ERA5 data is included in the Examples directory. These files were generated using Copernicus Climate Change Service information (2022).\n",
    "\n",
    "In this example we compute the sea surface reflectance and also the BRDF values:\n",
    "\n",
    "    - rho_0d: Solar beam to satellite view reflectances\n",
    "    - rho_0d: Solar beam to diffuse reflectances\n",
    "    - rho_dv: Diffuse to satellite view reflectances\n",
    "    - rho_dd: Diffuse to diffuse reflectances\n",
    "    \n",
    "We also apply a land/sea mask (derived from the NASA SRTM data and remapped onto the SEVIRI grid) to mask out all non-water pixels."
   ]
  },
  {
   "cell_type": "code",
   "execution_count": 1,
   "id": "75739ff9",
   "metadata": {},
   "outputs": [],
   "source": [
    "%load_ext autoreload\n",
    "%autoreload 2\n",
    "\n",
    "from satpy import Scene, find_files_and_readers\n",
    "from pyresample import create_area_def\n",
    "from datetime import datetime\n",
    "from netCDF4 import Dataset\n",
    "import dask.array as da\n",
    "import xarray as xr\n",
    "import numpy as np\n",
    "import pycoxmunk\n",
    "\n",
    "import warnings\n",
    "warnings.filterwarnings('ignore')"
   ]
  },
  {
   "cell_type": "code",
   "execution_count": 2,
   "id": "bd0ac4f1",
   "metadata": {},
   "outputs": [],
   "source": [
    "# Filename of the input granule\n",
    "sev_fname = 'd:/sat_data/SEV/MSG3-SEVI-MSG15-0100-NA-20160326144242.057000000Z-NA.nat'\n",
    "\n",
    "# Landmask filename\n",
    "lsm_fname = './Examples/SEVIRI_LANDMASK.tiff'\n",
    "\n",
    "# Filenames of the U and V 10m wind components, here taken from ERA5\n",
    "u10_fname = './Examples/ecmwf-era5_oper_an_sfc_201603261500.10u.nc'\n",
    "v10_fname = './Examples/ecmwf-era5_oper_an_sfc_201603261500.10v.nc'\n",
    "\n",
    "# Band name to load / process\n",
    "bnames = ['VIS006', 'VIS008', 'IR_016']\n",
    "\n",
    "# Cache dir for use in satpy's resample routines\n",
    "# This is optional, but can help speed things up - especially for \n",
    "# geostationary satellites where the area covered is a constant region.\n",
    "cache_dir = 'd:/sat_data/SEV/cache/'"
   ]
  },
  {
   "cell_type": "code",
   "execution_count": 3,
   "id": "5e0b928a",
   "metadata": {},
   "outputs": [],
   "source": [
    "# A helper function needed for ECMWF processing\n",
    "def load_wind(fname, var, ecm_scn=None, ftype='nc', dater=datetime(2000, 1, 1, 0, 0, 0)):\n",
    "    \"\"\"Load wind datasets from a file.\n",
    "    \n",
    "    This assumes that the winds are in individual netCDF files. It also makes a lot of\n",
    "    assumptions about the data type and area covered. Thus, it will probably not work\n",
    "    for anything other than the ERA5 data used for internal testing but it can be the\n",
    "    basis for your own wind loading functions.\n",
    "    \n",
    "    Inputs:\n",
    "     - fname: String, the input filename.\n",
    "     - var: String, name of variable to read\n",
    "     - ecm_scn: Scene, an existing scene to save data into. If None, a new Scene is created.\n",
    "     - ftype: String, file type. Currently only netCDF ('nc') is supported.\n",
    "     - dater: DateTime, time to set as Scene start_time.\n",
    "    Returns:\n",
    "      - ecm_scn: Scene, containing 'u10' and 'v10' winds.\n",
    "    \"\"\"\n",
    "    if ftype != 'nc':\n",
    "        raise ValueError(\"Only netCDF winds are supported at present.\")\n",
    "    \n",
    "    # Open the netCDF file\n",
    "    fid = Dataset(fname, 'r')\n",
    "    # Load the variable and retrieve the lats + lons\n",
    "    inv = np.array(fid[var]).squeeze()\n",
    "    lat = np.array(fid['latitude']).squeeze()\n",
    "    lon = np.array(fid['longitude']).squeeze()\n",
    "    # ERA5 has lats in range 0 -> 360. Here we switch to -180 -> 180\n",
    "    if np.nanmax(lon) > 180:\n",
    "        inv = np.roll(inv, np.round(inv.shape[1]/2).astype(int))\n",
    "        lon = lon - 180.\n",
    "    # Done with file, close it\n",
    "    fid.close()\n",
    "    \n",
    "    # Create a Scene if there isn't one\n",
    "    if ecm_scn is None:\n",
    "        ecm_scn = Scene()\n",
    "    \n",
    "    # Create an area for use in resampling.\n",
    "    # This assumes lat/lon gridded data\n",
    "    area_ext = (np.nanmin(lon), np.nanmin(lat), np.nanmax(lon), np.nanmax(lat))\n",
    "    targ_area = create_area_def(\"source_area\",\n",
    "                                \"EPSG:4326\",\n",
    "                                area_extent=area_ext,\n",
    "                                width=inv.shape[1],\n",
    "                                height=inv.shape[0])\n",
    "\n",
    "    # Create a new dataset in the Scene for the wind data\n",
    "    ecm_scn[var] = xr.DataArray(da.from_array(inv),\n",
    "                                coords={'y': lat, 'x': lon},\n",
    "                                attrs={'start_time': dater})\n",
    "\n",
    "    ecm_scn[var].attrs['area'] = targ_area\n",
    "    \n",
    "    # Return the scene\n",
    "    return ecm_scn"
   ]
  },
  {
   "cell_type": "code",
   "execution_count": 4,
   "id": "351f79c3",
   "metadata": {},
   "outputs": [],
   "source": [
    "# Create a scene for the granule and load data\n",
    "scn = Scene([sev_fname], reader='seviri_l1b_native')\n",
    "scn.load(bnames, upper_right_corner='NE')"
   ]
  },
  {
   "cell_type": "code",
   "execution_count": 5,
   "id": "fb118cb5",
   "metadata": {},
   "outputs": [],
   "source": [
    "# Load the ECMWF wind\n",
    "ecm_scn = load_wind(u10_fname, 'u10', ecm_scn=None)\n",
    "ecm_scn = load_wind(v10_fname, 'v10', ecm_scn=ecm_scn)"
   ]
  },
  {
   "cell_type": "code",
   "execution_count": 6,
   "id": "f15954c7",
   "metadata": {},
   "outputs": [],
   "source": [
    "# Load the land mask\n",
    "lsm_scn = Scene([lsm_fname], reader='generic_image')\n",
    "lsm_scn.load(['image'])"
   ]
  },
  {
   "cell_type": "code",
   "execution_count": 7,
   "id": "feb04898",
   "metadata": {},
   "outputs": [],
   "source": [
    "# Resample the ECMWF wind data onto the satellite grid\n",
    "ecm_scn2 = ecm_scn.resample(scn[bnames[0]].attrs['area'], resampler='bilinear', radius_of_influence=150000)"
   ]
  },
  {
   "cell_type": "code",
   "execution_count": 8,
   "id": "122fdbf8",
   "metadata": {},
   "outputs": [],
   "source": [
    "# Copy the winds from the ECMWF scene into the satellite scene.\n",
    "# This simplifies calling PyCoxMunk, as we only need to pass\n",
    "# one scene instead of two\n",
    "scn['u10'] = ecm_scn2['u10'].copy()\n",
    "scn['v10'] = ecm_scn2['v10'].copy()"
   ]
  },
  {
   "cell_type": "code",
   "execution_count": 9,
   "id": "e1c4a155",
   "metadata": {},
   "outputs": [],
   "source": [
    "# Create the PyCoxMunk class\n",
    "pcm = pycoxmunk.PyCoxMunk(scn, bnames, angle_names='calc', delete_when_done=False, mask_bad=False)\n",
    "# Set up the wind variables within PyCoxMunk\n",
    "pcm.setup_wind(scn['u10'], scn['v10'])"
   ]
  },
  {
   "cell_type": "code",
   "execution_count": 10,
   "id": "bbaa5bf4",
   "metadata": {},
   "outputs": [],
   "source": [
    "# Set up the pixel masking\n",
    "pcm.setup_pixmask(land_mask=np.array(lsm_scn['image'].data).squeeze())"
   ]
  },
  {
   "cell_type": "code",
   "execution_count": 30,
   "id": "3d7343d9",
   "metadata": {},
   "outputs": [],
   "source": [
    "# Retrieve the sea surface reflectance\n",
    "pcm.retr_coxmunk_refl()"
   ]
  },
  {
   "cell_type": "code",
   "execution_count": 29,
   "id": "6f2c3cbc",
   "metadata": {},
   "outputs": [],
   "source": [
    "# Save results and intermediate variables to disk.\n",
    "pcm.scn.save_datasets(base_dir='d:/sat_data/sev/out/', enhance=False, dtype=np.float32)"
   ]
  },
  {
   "cell_type": "code",
   "execution_count": 33,
   "id": "254e180f",
   "metadata": {},
   "outputs": [
    {
     "name": "stdout",
     "output_type": "stream",
     "text": [
      "Help on class PyCoxMunk in module pycoxmunk.CM_Main:\n",
      "\n",
      "class PyCoxMunk(builtins.object)\n",
      " |  PyCoxMunk(scn, band_names, oc_dir=None, angle_names=None, do_brdf=False, mask_bad=True, delete_when_done=True)\n",
      " |  \n",
      " |  The main class for the library, sets up and runs processing.\n",
      " |  \n",
      " |  Methods defined here:\n",
      " |  \n",
      " |  __init__(self, scn, band_names, oc_dir=None, angle_names=None, do_brdf=False, mask_bad=True, delete_when_done=True)\n",
      " |      Initialise the class.\n",
      " |      Inputs:\n",
      " |      - scn: Satpy Scene, the scene containing data and angles.\n",
      " |      - band_names: List, if supplied lists all band names to process.\n",
      " |      - oc_dir: (optional) String, if supplied points to location of Ocean Color CCI data.\n",
      " |      - angle_names: (optional) Dict, if supplied this should list all\n",
      " |        solar/satellite angle dataset names. If not supplied, these are assumed.\n",
      " |      - do_brdf: Bool, if true then PyCoxMunk will also compute BRDF coefficients.\n",
      " |      - mask_bad: Bool, if true then pixels with bad data (f.ex zenith too high) will be set to np.nan\n",
      " |  \n",
      " |  retr_coxmunk_refl(self)\n",
      " |      Main function for computing the sea surface reflectance.\n",
      " |      \n",
      " |      This uses data previously loaded including, if available, wind and ocean color\n",
      " |      data to compute the reflectance using the approach described in Sayer (2010).\n",
      " |      DOI: 10.5194/amt-3-813-2010\n",
      " |      \n",
      " |      This accounts for white caps and Chlorophyll content (via Ocean Color). However,\n",
      " |      it is designed for use over open oceans and may give poor results in coastal regions,\n",
      " |      lakes, and other water types.\n",
      " |  \n",
      " |  setup_pixmask(self, cloud_mask=None, land_mask=None, sol_zen_mask=None, sat_zen_mask=None)\n",
      " |      Add a pixel mask to the class.\n",
      " |  \n",
      " |  setup_wind(self, u10, v10)\n",
      " |      Set up the fields that depend on wind speed.\n",
      " |      Inputs:\n",
      " |        - u10: Float or np.ndarray, u-direction wind speed at 10m in m/s.\n",
      " |        - v10: Float or np.ndarray, v-direction wind speed at 10m in m/s.\n",
      " |      Returns:\n",
      " |        - self.shared_wind: CM_Shared_Wind class.\n",
      " |  \n",
      " |  ----------------------------------------------------------------------\n",
      " |  Data descriptors defined here:\n",
      " |  \n",
      " |  __dict__\n",
      " |      dictionary for instance variables (if defined)\n",
      " |  \n",
      " |  __weakref__\n",
      " |      list of weak references to the object (if defined)\n",
      "\n"
     ]
    }
   ],
   "source": [
    "help(pycoxmunk.PyCoxMunk)"
   ]
  },
  {
   "cell_type": "code",
   "execution_count": 35,
   "id": "a8305984",
   "metadata": {},
   "outputs": [
    {
     "name": "stdout",
     "output_type": "stream",
     "text": [
      "Help on package pycoxmunk:\n",
      "\n",
      "NAME\n",
      "    pycoxmunk - For instructions on using pycoxmunk please see the documentation under the pycoxmunk.PyCoxMunk class.\n",
      "\n",
      "PACKAGE CONTENTS\n",
      "    CM_Calcs\n",
      "    CM_Constants\n",
      "    CM_Main\n",
      "    CM_PixMask\n",
      "    CM_SceneGeom\n",
      "    CM_Shared_Wind\n",
      "    CM_Utils\n",
      "    Tests (package)\n",
      "\n",
      "FILE\n",
      "    c:\\users\\simon\\pycharmprojects\\pycoxmunk\\pycoxmunk\\__init__.py\n",
      "\n",
      "\n"
     ]
    }
   ],
   "source": [
    "help(pycoxmunk)"
   ]
  },
  {
   "cell_type": "code",
   "execution_count": null,
   "id": "d8d047c1",
   "metadata": {},
   "outputs": [],
   "source": []
  }
 ],
 "metadata": {
  "kernelspec": {
   "display_name": "Python 3 (ipykernel)",
   "language": "python",
   "name": "python3"
  },
  "language_info": {
   "codemirror_mode": {
    "name": "ipython",
    "version": 3
   },
   "file_extension": ".py",
   "mimetype": "text/x-python",
   "name": "python",
   "nbconvert_exporter": "python",
   "pygments_lexer": "ipython3",
   "version": "3.10.6"
  }
 },
 "nbformat": 4,
 "nbformat_minor": 5
}
