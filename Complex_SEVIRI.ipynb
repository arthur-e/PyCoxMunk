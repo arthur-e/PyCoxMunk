{
 "cells": [
  {
   "cell_type": "markdown",
   "id": "4f1777f0",
   "metadata": {},
   "source": [
    "# Example processing script for SEVIRI data\n",
    "### A more complex example than for SLSTR, using a land-mask and ERA5 wind profiles.\n",
    "\n",
    "This script requires MSG/SEVIRI data in native format (although it can be easily edited to use HRIT data instead).\n",
    "\n",
    "Data is available for download at https://data.eumetsat.int\n",
    "\n",
    "ERA5 data is included in the Examples directory. These files were generated using Copernicus Climate Change Service information (2022).\n",
    "\n",
    "In this example we compute the sea surface reflectance and also the BRDF values:\n",
    "\n",
    "    - rho_0d: Solar beam to satellite view reflectances\n",
    "    - rho_0d: Solar beam to diffuse reflectances\n",
    "    - rho_dv: Diffuse to satellite view reflectances\n",
    "    - rho_dd: Diffuse to diffuse reflectances\n",
    "    \n",
    "We also apply a land/sea mask (derived from the NASA SRTM data and remapped onto the SEVIRI grid) to mask out all non-water pixels."
   ]
  },
  {
   "cell_type": "code",
   "execution_count": 2,
   "id": "c715463a",
   "metadata": {},
   "outputs": [
    {
     "name": "stdout",
     "output_type": "stream",
     "text": [
      "The autoreload extension is already loaded. To reload it, use:\n",
      "  %reload_ext autoreload\n"
     ]
    },
    {
     "name": "stderr",
     "output_type": "stream",
     "text": [
      "C:\\Users\\Simon\\miniconda3\\lib\\site-packages\\distributed\\node.py:183: UserWarning: Port 8787 is already in use.\n",
      "Perhaps you already have a cluster running?\n",
      "Hosting the HTTP server on port 55556 instead\n",
      "  warnings.warn(\n"
     ]
    },
    {
     "data": {
      "text/plain": [
       "<dask.config.set at 0x216327a8bb0>"
      ]
     },
     "execution_count": 2,
     "metadata": {},
     "output_type": "execute_result"
    }
   ],
   "source": [
    "%load_ext autoreload\n",
    "%autoreload 2\n",
    "\n",
    "# If you have a powerful machine, the dask library can actually slow things down.\n",
    "# These lines limit the resources dask uses, you may need to experiment with the\n",
    "# `num_workers` argument to find what works best on your own machine.\n",
    "import dask\n",
    "dask.config.set({'array.chunk-size': '32M', 'num_workers': 4})\n",
    "\n",
    "from dask.diagnostics import ResourceProfiler, Profiler, CacheProfiler, visualize"
   ]
  },
  {
   "cell_type": "code",
   "execution_count": 3,
   "id": "c3c82074",
   "metadata": {},
   "outputs": [],
   "source": [
    "from satpy import Scene, find_files_and_readers\n",
    "from pyresample import create_area_def\n",
    "from datetime import datetime\n",
    "from netCDF4 import Dataset\n",
    "import dask.array as da\n",
    "import xarray as xr\n",
    "import numpy as np\n",
    "import pycoxmunk\n",
    "\n",
    "import warnings\n",
    "warnings.filterwarnings('ignore')"
   ]
  },
  {
   "cell_type": "code",
   "execution_count": 4,
   "id": "0f07e2b9",
   "metadata": {},
   "outputs": [],
   "source": [
    "# Filename of the input granule\n",
    "sev_fname = 'd:/sat_data/SEV/MSG3-SEVI-MSG15-0100-NA-20160326144242.057000000Z-NA.nat'\n",
    "\n",
    "# Landmask filename\n",
    "lsm_fname = './Examples/SEVIRI_LANDMASK.tiff'\n",
    "\n",
    "# Filenames of the U and V 10m wind components, here taken from ERA5\n",
    "u10_fname = './Examples/ecmwf-era5_oper_an_sfc_201603261500.10u.nc'\n",
    "v10_fname = './Examples/ecmwf-era5_oper_an_sfc_201603261500.10v.nc'\n",
    "\n",
    "# Band name to load / process\n",
    "bnames = ['VIS006']#, 'VIS008', 'IR_016']\n",
    "\n",
    "# Cache dir for use in satpy's resample routines\n",
    "# This is optional, but can help speed things up - especially for \n",
    "# geostationary satellites where the area covered is a constant region.\n",
    "cache_dir = 'd:/sat_data/SEV/cache/'"
   ]
  },
  {
   "cell_type": "code",
   "execution_count": 5,
   "id": "5e0b928a",
   "metadata": {},
   "outputs": [],
   "source": [
    "# A helper function needed for ECMWF processing\n",
    "def load_wind(fname, var, ecm_scn=None, ftype='nc', dater=datetime(2000, 1, 1, 0, 0, 0)):\n",
    "    \"\"\"Load wind datasets from a file.\n",
    "    \n",
    "    This assumes that the winds are in individual netCDF files. It also makes a lot of\n",
    "    assumptions about the data type and area covered. Thus, it will probably not work\n",
    "    for anything other than the ERA5 data used for internal testing but it can be the\n",
    "    basis for your own wind loading functions.\n",
    "    \n",
    "    Inputs:\n",
    "     - fname: String, the input filename.\n",
    "     - var: String, name of variable to read\n",
    "     - ecm_scn: Scene, an existing scene to save data into. If None, a new Scene is created.\n",
    "     - ftype: String, file type. Currently only netCDF ('nc') is supported.\n",
    "     - dater: DateTime, time to set as Scene start_time.\n",
    "    Returns:\n",
    "      - ecm_scn: Scene, containing 'u10' and 'v10' winds.\n",
    "    \"\"\"\n",
    "    if ftype != 'nc':\n",
    "        raise ValueError(\"Only netCDF winds are supported at present.\")\n",
    "    \n",
    "    # Open the netCDF file\n",
    "    fid = Dataset(fname, 'r')\n",
    "    # Load the variable and retrieve the lats + lons\n",
    "    inv = np.array(fid[var]).squeeze()\n",
    "    lat = np.array(fid['latitude']).squeeze()\n",
    "    lon = np.array(fid['longitude']).squeeze()\n",
    "    # ERA5 has lats in range 0 -> 360. Here we switch to -180 -> 180\n",
    "    if np.nanmax(lon) > 180:\n",
    "        inv = np.roll(inv, np.round(inv.shape[1]/2).astype(int))\n",
    "        lon = lon - 180.\n",
    "    # Done with file, close it\n",
    "    fid.close()\n",
    "    \n",
    "    # Create a Scene if there isn't one\n",
    "    if ecm_scn is None:\n",
    "        ecm_scn = Scene()\n",
    "    \n",
    "    # Create an area for use in resampling.\n",
    "    # This assumes lat/lon gridded data\n",
    "    area_ext = (np.nanmin(lon), np.nanmin(lat), np.nanmax(lon), np.nanmax(lat))\n",
    "    targ_area = create_area_def(\"source_area\",\n",
    "                                \"EPSG:4326\",\n",
    "                                area_extent=area_ext,\n",
    "                                width=inv.shape[1],\n",
    "                                height=inv.shape[0])\n",
    "\n",
    "    # Create a new dataset in the Scene for the wind data\n",
    "    ecm_scn[var] = xr.DataArray(da.from_array(inv),\n",
    "                                coords={'y': lat, 'x': lon},\n",
    "                                attrs={'start_time': dater})\n",
    "\n",
    "    ecm_scn[var].attrs['area'] = targ_area\n",
    "    \n",
    "    # Return the scene\n",
    "    return ecm_scn"
   ]
  },
  {
   "cell_type": "code",
   "execution_count": 6,
   "id": "351f79c3",
   "metadata": {},
   "outputs": [],
   "source": [
    "# Create a scene for the granule and load data\n",
    "scn = Scene([sev_fname], reader='seviri_l1b_native')\n",
    "scn.load(bnames, upper_right_corner='NE')"
   ]
  },
  {
   "cell_type": "code",
   "execution_count": 7,
   "id": "fb118cb5",
   "metadata": {},
   "outputs": [],
   "source": [
    "# Load the ECMWF wind\n",
    "ecm_scn = load_wind(u10_fname, 'u10', ecm_scn=None)\n",
    "ecm_scn = load_wind(v10_fname, 'v10', ecm_scn=ecm_scn)"
   ]
  },
  {
   "cell_type": "code",
   "execution_count": 8,
   "id": "f15954c7",
   "metadata": {},
   "outputs": [],
   "source": [
    "# Load the land mask\n",
    "lsm_scn = Scene([lsm_fname], reader='generic_image')\n",
    "lsm_scn.load(['image'])"
   ]
  },
  {
   "cell_type": "code",
   "execution_count": 9,
   "id": "feb04898",
   "metadata": {},
   "outputs": [],
   "source": [
    "# Resample the ECMWF wind data onto the satellite grid\n",
    "ecm_scn2 = ecm_scn.resample(scn[bnames[0]].attrs['area'],\n",
    "                            resampler='nearest', cache_dir=cache_dir,\n",
    "                            radius_of_influence=150000)"
   ]
  },
  {
   "cell_type": "code",
   "execution_count": 10,
   "id": "122fdbf8",
   "metadata": {},
   "outputs": [],
   "source": [
    "# Copy the winds from the ECMWF scene into the satellite scene.\n",
    "# This simplifies calling PyCoxMunk, as we only need to pass\n",
    "# one scene instead of two\n",
    "scn['u10'] = ecm_scn2['u10'].copy()\n",
    "scn['v10'] = ecm_scn2['v10'].copy()"
   ]
  },
  {
   "cell_type": "code",
   "execution_count": 11,
   "id": "e1c4a155",
   "metadata": {},
   "outputs": [],
   "source": [
    "# Create the PyCoxMunk class\n",
    "pcm = pycoxmunk.PyCoxMunk(scn, bnames, angle_names='calc', delete_when_done=False, mask_bad=False, do_brdf=True)"
   ]
  },
  {
   "cell_type": "code",
   "execution_count": 12,
   "id": "7cd3640c",
   "metadata": {},
   "outputs": [],
   "source": [
    "# Set up the wind variables within PyCoxMunk\n",
    "pcm.setup_wind(scn['u10'], scn['v10'])"
   ]
  },
  {
   "cell_type": "code",
   "execution_count": 13,
   "id": "bbaa5bf4",
   "metadata": {},
   "outputs": [],
   "source": [
    "# Set up the pixel masking\n",
    "pcm.setup_pixmask(land_mask=np.array(lsm_scn['image'].data).squeeze())"
   ]
  },
  {
   "cell_type": "code",
   "execution_count": 14,
   "id": "3d7343d9",
   "metadata": {
    "scrolled": false
   },
   "outputs": [],
   "source": [
    "# Retrieve the sea surface reflectance\n",
    "pcm.retr_coxmunk_refl()"
   ]
  },
  {
   "cell_type": "code",
   "execution_count": 16,
   "id": "6f2c3cbc",
   "metadata": {
    "scrolled": false
   },
   "outputs": [
    {
     "name": "stderr",
     "output_type": "stream",
     "text": [
      "2022-10-19 14:06:46,688 - distributed.protocol.core - CRITICAL - Failed to Serialize\n",
      "Traceback (most recent call last):\n",
      "  File \"C:\\Users\\Simon\\miniconda3\\lib\\site-packages\\distributed\\protocol\\core.py\", line 109, in dumps\n",
      "    frames[0] = msgpack.dumps(msg, default=_encode_default, use_bin_type=True)\n",
      "  File \"C:\\Users\\Simon\\miniconda3\\lib\\site-packages\\msgpack\\__init__.py\", line 38, in packb\n",
      "    return Packer(**kwargs).pack(o)\n",
      "  File \"msgpack/_packer.pyx\", line 294, in msgpack._cmsgpack.Packer.pack\n",
      "  File \"msgpack/_packer.pyx\", line 300, in msgpack._cmsgpack.Packer.pack\n",
      "  File \"msgpack/_packer.pyx\", line 297, in msgpack._cmsgpack.Packer.pack\n",
      "  File \"msgpack/_packer.pyx\", line 264, in msgpack._cmsgpack.Packer._pack\n",
      "  File \"msgpack/_packer.pyx\", line 231, in msgpack._cmsgpack.Packer._pack\n",
      "  File \"msgpack/_packer.pyx\", line 231, in msgpack._cmsgpack.Packer._pack\n",
      "  File \"msgpack/_packer.pyx\", line 264, in msgpack._cmsgpack.Packer._pack\n",
      "  File \"msgpack/_packer.pyx\", line 231, in msgpack._cmsgpack.Packer._pack\n",
      "  File \"msgpack/_packer.pyx\", line 231, in msgpack._cmsgpack.Packer._pack\n",
      "  File \"msgpack/_packer.pyx\", line 231, in msgpack._cmsgpack.Packer._pack\n",
      "  File \"msgpack/_packer.pyx\", line 285, in msgpack._cmsgpack.Packer._pack\n",
      "  File \"C:\\Users\\Simon\\miniconda3\\lib\\site-packages\\distributed\\protocol\\core.py\", line 100, in _encode_default\n",
      "    frames.extend(create_serialized_sub_frames(obj))\n",
      "  File \"C:\\Users\\Simon\\miniconda3\\lib\\site-packages\\distributed\\protocol\\core.py\", line 60, in create_serialized_sub_frames\n",
      "    sub_header, sub_frames = serialize_and_split(\n",
      "  File \"C:\\Users\\Simon\\miniconda3\\lib\\site-packages\\distributed\\protocol\\serialize.py\", line 444, in serialize_and_split\n",
      "    header, frames = serialize(x, serializers, on_error, context)\n",
      "  File \"C:\\Users\\Simon\\miniconda3\\lib\\site-packages\\distributed\\protocol\\serialize.py\", line 266, in serialize\n",
      "    return serialize(\n",
      "  File \"C:\\Users\\Simon\\miniconda3\\lib\\site-packages\\distributed\\protocol\\serialize.py\", line 316, in serialize\n",
      "    headers_frames = [\n",
      "  File \"C:\\Users\\Simon\\miniconda3\\lib\\site-packages\\distributed\\protocol\\serialize.py\", line 317, in <listcomp>\n",
      "    serialize(\n",
      "  File \"C:\\Users\\Simon\\miniconda3\\lib\\site-packages\\distributed\\protocol\\serialize.py\", line 366, in serialize\n",
      "    raise TypeError(msg, str(x)[:10000])\n",
      "TypeError: ('Could not serialize object of type RIODataset', '<trollimage.xrimage.RIODataset object at 0x000002164A8494B0>')\n",
      "2022-10-19 14:06:46,689 - distributed.comm.utils - ERROR - ('Could not serialize object of type RIODataset', '<trollimage.xrimage.RIODataset object at 0x000002164A8494B0>')\n",
      "Traceback (most recent call last):\n",
      "  File \"C:\\Users\\Simon\\miniconda3\\lib\\site-packages\\distributed\\comm\\utils.py\", line 55, in _to_frames\n",
      "    return list(protocol.dumps(msg, **kwargs))\n",
      "  File \"C:\\Users\\Simon\\miniconda3\\lib\\site-packages\\distributed\\protocol\\core.py\", line 109, in dumps\n",
      "    frames[0] = msgpack.dumps(msg, default=_encode_default, use_bin_type=True)\n",
      "  File \"C:\\Users\\Simon\\miniconda3\\lib\\site-packages\\msgpack\\__init__.py\", line 38, in packb\n",
      "    return Packer(**kwargs).pack(o)\n",
      "  File \"msgpack/_packer.pyx\", line 294, in msgpack._cmsgpack.Packer.pack\n",
      "  File \"msgpack/_packer.pyx\", line 300, in msgpack._cmsgpack.Packer.pack\n",
      "  File \"msgpack/_packer.pyx\", line 297, in msgpack._cmsgpack.Packer.pack\n",
      "  File \"msgpack/_packer.pyx\", line 264, in msgpack._cmsgpack.Packer._pack\n",
      "  File \"msgpack/_packer.pyx\", line 231, in msgpack._cmsgpack.Packer._pack\n",
      "  File \"msgpack/_packer.pyx\", line 231, in msgpack._cmsgpack.Packer._pack\n",
      "  File \"msgpack/_packer.pyx\", line 264, in msgpack._cmsgpack.Packer._pack\n",
      "  File \"msgpack/_packer.pyx\", line 231, in msgpack._cmsgpack.Packer._pack\n",
      "  File \"msgpack/_packer.pyx\", line 231, in msgpack._cmsgpack.Packer._pack\n",
      "  File \"msgpack/_packer.pyx\", line 231, in msgpack._cmsgpack.Packer._pack\n",
      "  File \"msgpack/_packer.pyx\", line 285, in msgpack._cmsgpack.Packer._pack\n",
      "  File \"C:\\Users\\Simon\\miniconda3\\lib\\site-packages\\distributed\\protocol\\core.py\", line 100, in _encode_default\n",
      "    frames.extend(create_serialized_sub_frames(obj))\n",
      "  File \"C:\\Users\\Simon\\miniconda3\\lib\\site-packages\\distributed\\protocol\\core.py\", line 60, in create_serialized_sub_frames\n",
      "    sub_header, sub_frames = serialize_and_split(\n",
      "  File \"C:\\Users\\Simon\\miniconda3\\lib\\site-packages\\distributed\\protocol\\serialize.py\", line 444, in serialize_and_split\n",
      "    header, frames = serialize(x, serializers, on_error, context)\n",
      "  File \"C:\\Users\\Simon\\miniconda3\\lib\\site-packages\\distributed\\protocol\\serialize.py\", line 266, in serialize\n",
      "    return serialize(\n",
      "  File \"C:\\Users\\Simon\\miniconda3\\lib\\site-packages\\distributed\\protocol\\serialize.py\", line 316, in serialize\n",
      "    headers_frames = [\n",
      "  File \"C:\\Users\\Simon\\miniconda3\\lib\\site-packages\\distributed\\protocol\\serialize.py\", line 317, in <listcomp>\n",
      "    serialize(\n",
      "  File \"C:\\Users\\Simon\\miniconda3\\lib\\site-packages\\distributed\\protocol\\serialize.py\", line 366, in serialize\n",
      "    raise TypeError(msg, str(x)[:10000])\n",
      "TypeError: ('Could not serialize object of type RIODataset', '<trollimage.xrimage.RIODataset object at 0x000002164A8494B0>')\n",
      "2022-10-19 14:06:46,690 - distributed.batched - ERROR - Error in batched write\n",
      "Traceback (most recent call last):\n",
      "  File \"C:\\Users\\Simon\\miniconda3\\lib\\site-packages\\distributed\\batched.py\", line 115, in _background_send\n",
      "    nbytes = yield coro\n",
      "  File \"C:\\Users\\Simon\\miniconda3\\lib\\site-packages\\tornado\\gen.py\", line 762, in run\n",
      "    value = future.result()\n",
      "  File \"C:\\Users\\Simon\\miniconda3\\lib\\site-packages\\distributed\\comm\\tcp.py\", line 271, in write\n",
      "    frames = await to_frames(\n",
      "  File \"C:\\Users\\Simon\\miniconda3\\lib\\site-packages\\distributed\\comm\\utils.py\", line 72, in to_frames\n",
      "    return _to_frames()\n",
      "  File \"C:\\Users\\Simon\\miniconda3\\lib\\site-packages\\distributed\\comm\\utils.py\", line 55, in _to_frames\n",
      "    return list(protocol.dumps(msg, **kwargs))\n",
      "  File \"C:\\Users\\Simon\\miniconda3\\lib\\site-packages\\distributed\\protocol\\core.py\", line 109, in dumps\n",
      "    frames[0] = msgpack.dumps(msg, default=_encode_default, use_bin_type=True)\n",
      "  File \"C:\\Users\\Simon\\miniconda3\\lib\\site-packages\\msgpack\\__init__.py\", line 38, in packb\n",
      "    return Packer(**kwargs).pack(o)\n",
      "  File \"msgpack/_packer.pyx\", line 294, in msgpack._cmsgpack.Packer.pack\n",
      "  File \"msgpack/_packer.pyx\", line 300, in msgpack._cmsgpack.Packer.pack\n",
      "  File \"msgpack/_packer.pyx\", line 297, in msgpack._cmsgpack.Packer.pack\n",
      "  File \"msgpack/_packer.pyx\", line 264, in msgpack._cmsgpack.Packer._pack\n",
      "  File \"msgpack/_packer.pyx\", line 231, in msgpack._cmsgpack.Packer._pack\n",
      "  File \"msgpack/_packer.pyx\", line 231, in msgpack._cmsgpack.Packer._pack\n",
      "  File \"msgpack/_packer.pyx\", line 264, in msgpack._cmsgpack.Packer._pack\n",
      "  File \"msgpack/_packer.pyx\", line 231, in msgpack._cmsgpack.Packer._pack\n",
      "  File \"msgpack/_packer.pyx\", line 231, in msgpack._cmsgpack.Packer._pack\n",
      "  File \"msgpack/_packer.pyx\", line 231, in msgpack._cmsgpack.Packer._pack\n",
      "  File \"msgpack/_packer.pyx\", line 285, in msgpack._cmsgpack.Packer._pack\n",
      "  File \"C:\\Users\\Simon\\miniconda3\\lib\\site-packages\\distributed\\protocol\\core.py\", line 100, in _encode_default\n",
      "    frames.extend(create_serialized_sub_frames(obj))\n",
      "  File \"C:\\Users\\Simon\\miniconda3\\lib\\site-packages\\distributed\\protocol\\core.py\", line 60, in create_serialized_sub_frames\n",
      "    sub_header, sub_frames = serialize_and_split(\n",
      "  File \"C:\\Users\\Simon\\miniconda3\\lib\\site-packages\\distributed\\protocol\\serialize.py\", line 444, in serialize_and_split\n",
      "    header, frames = serialize(x, serializers, on_error, context)\n",
      "  File \"C:\\Users\\Simon\\miniconda3\\lib\\site-packages\\distributed\\protocol\\serialize.py\", line 266, in serialize\n",
      "    return serialize(\n",
      "  File \"C:\\Users\\Simon\\miniconda3\\lib\\site-packages\\distributed\\protocol\\serialize.py\", line 316, in serialize\n",
      "    headers_frames = [\n",
      "  File \"C:\\Users\\Simon\\miniconda3\\lib\\site-packages\\distributed\\protocol\\serialize.py\", line 317, in <listcomp>\n",
      "    serialize(\n",
      "  File \"C:\\Users\\Simon\\miniconda3\\lib\\site-packages\\distributed\\protocol\\serialize.py\", line 366, in serialize\n",
      "    raise TypeError(msg, str(x)[:10000])\n",
      "TypeError: ('Could not serialize object of type RIODataset', '<trollimage.xrimage.RIODataset object at 0x000002164A8494B0>')\n"
     ]
    },
    {
     "ename": "CancelledError",
     "evalue": "('store-map-52016ac13d71f3bf66124520c4ae003c', 0, 3, 0)",
     "output_type": "error",
     "traceback": [
      "\u001b[1;31m---------------------------------------------------------------------------\u001b[0m",
      "\u001b[1;31mCancelledError\u001b[0m                            Traceback (most recent call last)",
      "Cell \u001b[1;32mIn [16], line 2\u001b[0m\n\u001b[0;32m      1\u001b[0m \u001b[38;5;66;03m# Save results and intermediate variables to disk.\u001b[39;00m\n\u001b[1;32m----> 2\u001b[0m \u001b[43mpcm\u001b[49m\u001b[38;5;241;43m.\u001b[39;49m\u001b[43mscn\u001b[49m\u001b[38;5;241;43m.\u001b[39;49m\u001b[43msave_dataset\u001b[49m\u001b[43m(\u001b[49m\u001b[38;5;124;43m'\u001b[39;49m\u001b[38;5;124;43mVIS006\u001b[39;49m\u001b[38;5;124;43m'\u001b[39;49m\u001b[43m,\u001b[49m\u001b[43m \u001b[49m\u001b[43mbase_dir\u001b[49m\u001b[38;5;241;43m=\u001b[39;49m\u001b[38;5;124;43m'\u001b[39;49m\u001b[38;5;124;43md:/sat_data/sev/out/\u001b[39;49m\u001b[38;5;124;43m'\u001b[39;49m\u001b[43m,\u001b[49m\u001b[43m \u001b[49m\u001b[43menhance\u001b[49m\u001b[38;5;241;43m=\u001b[39;49m\u001b[38;5;28;43;01mFalse\u001b[39;49;00m\u001b[43m,\u001b[49m\u001b[43m \u001b[49m\u001b[43mdtype\u001b[49m\u001b[38;5;241;43m=\u001b[39;49m\u001b[43mnp\u001b[49m\u001b[38;5;241;43m.\u001b[39;49m\u001b[43mfloat32\u001b[49m\u001b[43m)\u001b[49m\n",
      "File \u001b[1;32m~\\PycharmProjects\\satpy\\satpy\\scene.py:1133\u001b[0m, in \u001b[0;36mScene.save_dataset\u001b[1;34m(self, dataset_id, filename, writer, overlay, decorate, compute, **kwargs)\u001b[0m\n\u001b[0;32m   1128\u001b[0m     writer \u001b[38;5;241m=\u001b[39m \u001b[38;5;28mself\u001b[39m\u001b[38;5;241m.\u001b[39m_get_writer_by_ext(os\u001b[38;5;241m.\u001b[39mpath\u001b[38;5;241m.\u001b[39msplitext(filename)[\u001b[38;5;241m1\u001b[39m])\n\u001b[0;32m   1130\u001b[0m writer, save_kwargs \u001b[38;5;241m=\u001b[39m load_writer(writer,\n\u001b[0;32m   1131\u001b[0m                                   filename\u001b[38;5;241m=\u001b[39mfilename,\n\u001b[0;32m   1132\u001b[0m                                   \u001b[38;5;241m*\u001b[39m\u001b[38;5;241m*\u001b[39mkwargs)\n\u001b[1;32m-> 1133\u001b[0m \u001b[38;5;28;01mreturn\u001b[39;00m writer\u001b[38;5;241m.\u001b[39msave_dataset(\u001b[38;5;28mself\u001b[39m[dataset_id],\n\u001b[0;32m   1134\u001b[0m                            overlay\u001b[38;5;241m=\u001b[39moverlay, decorate\u001b[38;5;241m=\u001b[39mdecorate,\n\u001b[0;32m   1135\u001b[0m                            compute\u001b[38;5;241m=\u001b[39mcompute, \u001b[38;5;241m*\u001b[39m\u001b[38;5;241m*\u001b[39msave_kwargs)\n",
      "File \u001b[1;32m~\\PycharmProjects\\satpy\\satpy\\writers\\__init__.py:813\u001b[0m, in \u001b[0;36mImageWriter.save_dataset\u001b[1;34m(self, dataset, filename, fill_value, overlay, decorate, compute, **kwargs)\u001b[0m\n\u001b[0;32m    804\u001b[0m \u001b[38;5;124;03m\"\"\"Save the ``dataset`` to a given ``filename``.\u001b[39;00m\n\u001b[0;32m    805\u001b[0m \n\u001b[0;32m    806\u001b[0m \u001b[38;5;124;03mThis method creates an enhanced image using :func:`get_enhanced_image`.\u001b[39;00m\n\u001b[1;32m   (...)\u001b[0m\n\u001b[0;32m    809\u001b[0m \n\u001b[0;32m    810\u001b[0m \u001b[38;5;124;03m\"\"\"\u001b[39;00m\n\u001b[0;32m    811\u001b[0m img \u001b[38;5;241m=\u001b[39m get_enhanced_image(dataset\u001b[38;5;241m.\u001b[39msqueeze(), enhance\u001b[38;5;241m=\u001b[39m\u001b[38;5;28mself\u001b[39m\u001b[38;5;241m.\u001b[39menhancer, overlay\u001b[38;5;241m=\u001b[39moverlay,\n\u001b[0;32m    812\u001b[0m                          decorate\u001b[38;5;241m=\u001b[39mdecorate, fill_value\u001b[38;5;241m=\u001b[39mfill_value)\n\u001b[1;32m--> 813\u001b[0m \u001b[38;5;28;01mreturn\u001b[39;00m \u001b[38;5;28mself\u001b[39m\u001b[38;5;241m.\u001b[39msave_image(img, filename\u001b[38;5;241m=\u001b[39mfilename, compute\u001b[38;5;241m=\u001b[39mcompute, fill_value\u001b[38;5;241m=\u001b[39mfill_value, \u001b[38;5;241m*\u001b[39m\u001b[38;5;241m*\u001b[39mkwargs)\n",
      "File \u001b[1;32m~\\PycharmProjects\\satpy\\satpy\\writers\\geotiff.py:278\u001b[0m, in \u001b[0;36mGeoTIFFWriter.save_image\u001b[1;34m(self, img, filename, compute, dtype, fill_value, keep_palette, cmap, tags, overviews, overviews_minsize, overviews_resampling, include_scale_offset, scale_offset_tags, colormap_tag, driver, tiled, **kwargs)\u001b[0m\n\u001b[0;32m    275\u001b[0m     tags \u001b[38;5;241m=\u001b[39m {}\n\u001b[0;32m    276\u001b[0m tags\u001b[38;5;241m.\u001b[39mupdate(\u001b[38;5;28mself\u001b[39m\u001b[38;5;241m.\u001b[39mtags)\n\u001b[1;32m--> 278\u001b[0m \u001b[38;5;28;01mreturn\u001b[39;00m img\u001b[38;5;241m.\u001b[39msave(filename, fformat\u001b[38;5;241m=\u001b[39m\u001b[38;5;124m'\u001b[39m\u001b[38;5;124mtif\u001b[39m\u001b[38;5;124m'\u001b[39m, driver\u001b[38;5;241m=\u001b[39mdriver,\n\u001b[0;32m    279\u001b[0m                 fill_value\u001b[38;5;241m=\u001b[39mfill_value,\n\u001b[0;32m    280\u001b[0m                 dtype\u001b[38;5;241m=\u001b[39mdtype, compute\u001b[38;5;241m=\u001b[39mcompute,\n\u001b[0;32m    281\u001b[0m                 keep_palette\u001b[38;5;241m=\u001b[39mkeep_palette, cmap\u001b[38;5;241m=\u001b[39mcmap,\n\u001b[0;32m    282\u001b[0m                 tags\u001b[38;5;241m=\u001b[39mtags, include_scale_offset_tags\u001b[38;5;241m=\u001b[39minclude_scale_offset,\n\u001b[0;32m    283\u001b[0m                 scale_offset_tags\u001b[38;5;241m=\u001b[39mscale_offset_tags,\n\u001b[0;32m    284\u001b[0m                 colormap_tag\u001b[38;5;241m=\u001b[39mcolormap_tag,\n\u001b[0;32m    285\u001b[0m                 overviews\u001b[38;5;241m=\u001b[39moverviews,\n\u001b[0;32m    286\u001b[0m                 overviews_resampling\u001b[38;5;241m=\u001b[39moverviews_resampling,\n\u001b[0;32m    287\u001b[0m                 overviews_minsize\u001b[38;5;241m=\u001b[39moverviews_minsize,\n\u001b[0;32m    288\u001b[0m                 tiled\u001b[38;5;241m=\u001b[39mtiled,\n\u001b[0;32m    289\u001b[0m                 \u001b[38;5;241m*\u001b[39m\u001b[38;5;241m*\u001b[39mgdal_options)\n",
      "File \u001b[1;32m~\\miniconda3\\lib\\site-packages\\trollimage\\xrimage.py:450\u001b[0m, in \u001b[0;36mXRImage.save\u001b[1;34m(self, filename, fformat, fill_value, compute, keep_palette, cmap, driver, **format_kwargs)\u001b[0m\n\u001b[0;32m    447\u001b[0m fformat \u001b[38;5;241m=\u001b[39m fformat \u001b[38;5;129;01mor\u001b[39;00m kwformat \u001b[38;5;129;01mor\u001b[39;00m os\u001b[38;5;241m.\u001b[39mpath\u001b[38;5;241m.\u001b[39msplitext(filename)[\u001b[38;5;241m1\u001b[39m][\u001b[38;5;241m1\u001b[39m:]\n\u001b[0;32m    448\u001b[0m \u001b[38;5;28;01mif\u001b[39;00m fformat \u001b[38;5;129;01min\u001b[39;00m (\u001b[38;5;124m'\u001b[39m\u001b[38;5;124mtif\u001b[39m\u001b[38;5;124m'\u001b[39m, \u001b[38;5;124m'\u001b[39m\u001b[38;5;124mtiff\u001b[39m\u001b[38;5;124m'\u001b[39m, \u001b[38;5;124m'\u001b[39m\u001b[38;5;124mjp2\u001b[39m\u001b[38;5;124m'\u001b[39m) \u001b[38;5;129;01mand\u001b[39;00m rasterio:\n\u001b[1;32m--> 450\u001b[0m     \u001b[38;5;28;01mreturn\u001b[39;00m \u001b[38;5;28mself\u001b[39m\u001b[38;5;241m.\u001b[39mrio_save(filename, fformat\u001b[38;5;241m=\u001b[39mfformat, driver\u001b[38;5;241m=\u001b[39mdriver,\n\u001b[0;32m    451\u001b[0m                          fill_value\u001b[38;5;241m=\u001b[39mfill_value, compute\u001b[38;5;241m=\u001b[39mcompute,\n\u001b[0;32m    452\u001b[0m                          keep_palette\u001b[38;5;241m=\u001b[39mkeep_palette, cmap\u001b[38;5;241m=\u001b[39mcmap,\n\u001b[0;32m    453\u001b[0m                          \u001b[38;5;241m*\u001b[39m\u001b[38;5;241m*\u001b[39mformat_kwargs)\n\u001b[0;32m    454\u001b[0m \u001b[38;5;28;01mreturn\u001b[39;00m \u001b[38;5;28mself\u001b[39m\u001b[38;5;241m.\u001b[39mpil_save(filename, fformat, fill_value,\n\u001b[0;32m    455\u001b[0m                      compute\u001b[38;5;241m=\u001b[39mcompute, \u001b[38;5;241m*\u001b[39m\u001b[38;5;241m*\u001b[39mformat_kwargs)\n",
      "File \u001b[1;32m~\\miniconda3\\lib\\site-packages\\trollimage\\xrimage.py:652\u001b[0m, in \u001b[0;36mXRImage.rio_save\u001b[1;34m(self, filename, fformat, fill_value, dtype, compute, tags, keep_palette, cmap, overviews, overviews_minsize, overviews_resampling, include_scale_offset_tags, scale_offset_tags, colormap_tag, driver, **format_kwargs)\u001b[0m\n\u001b[0;32m    648\u001b[0m     to_store \u001b[38;5;241m=\u001b[39m \u001b[38;5;28mlist\u001b[39m(\u001b[38;5;28mzip\u001b[39m(\u001b[38;5;241m*\u001b[39m([to_store] \u001b[38;5;241m+\u001b[39m da_tags)))\n\u001b[0;32m    650\u001b[0m \u001b[38;5;28;01mif\u001b[39;00m compute:\n\u001b[0;32m    651\u001b[0m     \u001b[38;5;66;03m# write data to the file now\u001b[39;00m\n\u001b[1;32m--> 652\u001b[0m     res \u001b[38;5;241m=\u001b[39m \u001b[43mda\u001b[49m\u001b[38;5;241;43m.\u001b[39;49m\u001b[43mstore\u001b[49m\u001b[43m(\u001b[49m\u001b[38;5;241;43m*\u001b[39;49m\u001b[43mto_store\u001b[49m\u001b[43m)\u001b[49m\n\u001b[0;32m    653\u001b[0m     to_close \u001b[38;5;241m=\u001b[39m to_store[\u001b[38;5;241m1\u001b[39m]\n\u001b[0;32m    654\u001b[0m     \u001b[38;5;28;01mif\u001b[39;00m \u001b[38;5;129;01mnot\u001b[39;00m \u001b[38;5;28misinstance\u001b[39m(to_close, \u001b[38;5;28mtuple\u001b[39m):\n",
      "File \u001b[1;32m~\\miniconda3\\lib\\site-packages\\dask\\array\\core.py:1236\u001b[0m, in \u001b[0;36mstore\u001b[1;34m(***failed resolving arguments***)\u001b[0m\n\u001b[0;32m   1234\u001b[0m \u001b[38;5;28;01melif\u001b[39;00m compute:\n\u001b[0;32m   1235\u001b[0m     store_dsk \u001b[38;5;241m=\u001b[39m HighLevelGraph(layers, dependencies)\n\u001b[1;32m-> 1236\u001b[0m     compute_as_if_collection(Array, store_dsk, map_keys, \u001b[38;5;241m*\u001b[39m\u001b[38;5;241m*\u001b[39mkwargs)\n\u001b[0;32m   1237\u001b[0m     \u001b[38;5;28;01mreturn\u001b[39;00m \u001b[38;5;28;01mNone\u001b[39;00m\n\u001b[0;32m   1239\u001b[0m \u001b[38;5;28;01melse\u001b[39;00m:\n",
      "File \u001b[1;32m~\\miniconda3\\lib\\site-packages\\dask\\base.py:342\u001b[0m, in \u001b[0;36mcompute_as_if_collection\u001b[1;34m(cls, dsk, keys, scheduler, get, **kwargs)\u001b[0m\n\u001b[0;32m    340\u001b[0m schedule \u001b[38;5;241m=\u001b[39m get_scheduler(scheduler\u001b[38;5;241m=\u001b[39mscheduler, \u001b[38;5;28mcls\u001b[39m\u001b[38;5;241m=\u001b[39m\u001b[38;5;28mcls\u001b[39m, get\u001b[38;5;241m=\u001b[39mget)\n\u001b[0;32m    341\u001b[0m dsk2 \u001b[38;5;241m=\u001b[39m optimization_function(\u001b[38;5;28mcls\u001b[39m)(dsk, keys, \u001b[38;5;241m*\u001b[39m\u001b[38;5;241m*\u001b[39mkwargs)\n\u001b[1;32m--> 342\u001b[0m \u001b[38;5;28;01mreturn\u001b[39;00m schedule(dsk2, keys, \u001b[38;5;241m*\u001b[39m\u001b[38;5;241m*\u001b[39mkwargs)\n",
      "File \u001b[1;32m~\\miniconda3\\lib\\site-packages\\distributed\\client.py:3057\u001b[0m, in \u001b[0;36mClient.get\u001b[1;34m(self, dsk, keys, workers, allow_other_workers, resources, sync, asynchronous, direct, retries, priority, fifo_timeout, actors, **kwargs)\u001b[0m\n\u001b[0;32m   3055\u001b[0m         should_rejoin \u001b[38;5;241m=\u001b[39m \u001b[38;5;28;01mFalse\u001b[39;00m\n\u001b[0;32m   3056\u001b[0m \u001b[38;5;28;01mtry\u001b[39;00m:\n\u001b[1;32m-> 3057\u001b[0m     results \u001b[38;5;241m=\u001b[39m \u001b[38;5;28;43mself\u001b[39;49m\u001b[38;5;241;43m.\u001b[39;49m\u001b[43mgather\u001b[49m\u001b[43m(\u001b[49m\u001b[43mpacked\u001b[49m\u001b[43m,\u001b[49m\u001b[43m \u001b[49m\u001b[43masynchronous\u001b[49m\u001b[38;5;241;43m=\u001b[39;49m\u001b[43masynchronous\u001b[49m\u001b[43m,\u001b[49m\u001b[43m \u001b[49m\u001b[43mdirect\u001b[49m\u001b[38;5;241;43m=\u001b[39;49m\u001b[43mdirect\u001b[49m\u001b[43m)\u001b[49m\n\u001b[0;32m   3058\u001b[0m \u001b[38;5;28;01mfinally\u001b[39;00m:\n\u001b[0;32m   3059\u001b[0m     \u001b[38;5;28;01mfor\u001b[39;00m f \u001b[38;5;129;01min\u001b[39;00m futures\u001b[38;5;241m.\u001b[39mvalues():\n",
      "File \u001b[1;32m~\\miniconda3\\lib\\site-packages\\distributed\\client.py:2226\u001b[0m, in \u001b[0;36mClient.gather\u001b[1;34m(self, futures, errors, direct, asynchronous)\u001b[0m\n\u001b[0;32m   2224\u001b[0m \u001b[38;5;28;01melse\u001b[39;00m:\n\u001b[0;32m   2225\u001b[0m     local_worker \u001b[38;5;241m=\u001b[39m \u001b[38;5;28;01mNone\u001b[39;00m\n\u001b[1;32m-> 2226\u001b[0m \u001b[38;5;28;01mreturn\u001b[39;00m \u001b[38;5;28;43mself\u001b[39;49m\u001b[38;5;241;43m.\u001b[39;49m\u001b[43msync\u001b[49m\u001b[43m(\u001b[49m\n\u001b[0;32m   2227\u001b[0m \u001b[43m    \u001b[49m\u001b[38;5;28;43mself\u001b[39;49m\u001b[38;5;241;43m.\u001b[39;49m\u001b[43m_gather\u001b[49m\u001b[43m,\u001b[49m\n\u001b[0;32m   2228\u001b[0m \u001b[43m    \u001b[49m\u001b[43mfutures\u001b[49m\u001b[43m,\u001b[49m\n\u001b[0;32m   2229\u001b[0m \u001b[43m    \u001b[49m\u001b[43merrors\u001b[49m\u001b[38;5;241;43m=\u001b[39;49m\u001b[43merrors\u001b[49m\u001b[43m,\u001b[49m\n\u001b[0;32m   2230\u001b[0m \u001b[43m    \u001b[49m\u001b[43mdirect\u001b[49m\u001b[38;5;241;43m=\u001b[39;49m\u001b[43mdirect\u001b[49m\u001b[43m,\u001b[49m\n\u001b[0;32m   2231\u001b[0m \u001b[43m    \u001b[49m\u001b[43mlocal_worker\u001b[49m\u001b[38;5;241;43m=\u001b[39;49m\u001b[43mlocal_worker\u001b[49m\u001b[43m,\u001b[49m\n\u001b[0;32m   2232\u001b[0m \u001b[43m    \u001b[49m\u001b[43masynchronous\u001b[49m\u001b[38;5;241;43m=\u001b[39;49m\u001b[43masynchronous\u001b[49m\u001b[43m,\u001b[49m\n\u001b[0;32m   2233\u001b[0m \u001b[43m\u001b[49m\u001b[43m)\u001b[49m\n",
      "File \u001b[1;32m~\\miniconda3\\lib\\site-packages\\distributed\\utils.py:339\u001b[0m, in \u001b[0;36mSyncMethodMixin.sync\u001b[1;34m(self, func, asynchronous, callback_timeout, *args, **kwargs)\u001b[0m\n\u001b[0;32m    337\u001b[0m     \u001b[38;5;28;01mreturn\u001b[39;00m future\n\u001b[0;32m    338\u001b[0m \u001b[38;5;28;01melse\u001b[39;00m:\n\u001b[1;32m--> 339\u001b[0m     \u001b[38;5;28;01mreturn\u001b[39;00m sync(\n\u001b[0;32m    340\u001b[0m         \u001b[38;5;28mself\u001b[39m\u001b[38;5;241m.\u001b[39mloop, func, \u001b[38;5;241m*\u001b[39margs, callback_timeout\u001b[38;5;241m=\u001b[39mcallback_timeout, \u001b[38;5;241m*\u001b[39m\u001b[38;5;241m*\u001b[39mkwargs\n\u001b[0;32m    341\u001b[0m     )\n",
      "File \u001b[1;32m~\\miniconda3\\lib\\site-packages\\distributed\\utils.py:406\u001b[0m, in \u001b[0;36msync\u001b[1;34m(loop, func, callback_timeout, *args, **kwargs)\u001b[0m\n\u001b[0;32m    404\u001b[0m \u001b[38;5;28;01mif\u001b[39;00m error:\n\u001b[0;32m    405\u001b[0m     typ, exc, tb \u001b[38;5;241m=\u001b[39m error\n\u001b[1;32m--> 406\u001b[0m     \u001b[38;5;28;01mraise\u001b[39;00m exc\u001b[38;5;241m.\u001b[39mwith_traceback(tb)\n\u001b[0;32m    407\u001b[0m \u001b[38;5;28;01melse\u001b[39;00m:\n\u001b[0;32m    408\u001b[0m     \u001b[38;5;28;01mreturn\u001b[39;00m result\n",
      "File \u001b[1;32m~\\miniconda3\\lib\\site-packages\\distributed\\utils.py:379\u001b[0m, in \u001b[0;36msync.<locals>.f\u001b[1;34m()\u001b[0m\n\u001b[0;32m    377\u001b[0m         future \u001b[38;5;241m=\u001b[39m asyncio\u001b[38;5;241m.\u001b[39mwait_for(future, callback_timeout)\n\u001b[0;32m    378\u001b[0m     future \u001b[38;5;241m=\u001b[39m asyncio\u001b[38;5;241m.\u001b[39mensure_future(future)\n\u001b[1;32m--> 379\u001b[0m     result \u001b[38;5;241m=\u001b[39m \u001b[38;5;28;01myield\u001b[39;00m future\n\u001b[0;32m    380\u001b[0m \u001b[38;5;28;01mexcept\u001b[39;00m \u001b[38;5;167;01mException\u001b[39;00m:\n\u001b[0;32m    381\u001b[0m     error \u001b[38;5;241m=\u001b[39m sys\u001b[38;5;241m.\u001b[39mexc_info()\n",
      "File \u001b[1;32m~\\miniconda3\\lib\\site-packages\\tornado\\gen.py:762\u001b[0m, in \u001b[0;36mRunner.run\u001b[1;34m(self)\u001b[0m\n\u001b[0;32m    759\u001b[0m exc_info \u001b[38;5;241m=\u001b[39m \u001b[38;5;28;01mNone\u001b[39;00m\n\u001b[0;32m    761\u001b[0m \u001b[38;5;28;01mtry\u001b[39;00m:\n\u001b[1;32m--> 762\u001b[0m     value \u001b[38;5;241m=\u001b[39m \u001b[43mfuture\u001b[49m\u001b[38;5;241;43m.\u001b[39;49m\u001b[43mresult\u001b[49m\u001b[43m(\u001b[49m\u001b[43m)\u001b[49m\n\u001b[0;32m    763\u001b[0m \u001b[38;5;28;01mexcept\u001b[39;00m \u001b[38;5;167;01mException\u001b[39;00m:\n\u001b[0;32m    764\u001b[0m     exc_info \u001b[38;5;241m=\u001b[39m sys\u001b[38;5;241m.\u001b[39mexc_info()\n",
      "File \u001b[1;32m~\\miniconda3\\lib\\site-packages\\distributed\\client.py:2090\u001b[0m, in \u001b[0;36mClient._gather\u001b[1;34m(self, futures, errors, direct, local_worker)\u001b[0m\n\u001b[0;32m   2088\u001b[0m     \u001b[38;5;28;01melse\u001b[39;00m:\n\u001b[0;32m   2089\u001b[0m         \u001b[38;5;28;01mraise\u001b[39;00m exception\u001b[38;5;241m.\u001b[39mwith_traceback(traceback)\n\u001b[1;32m-> 2090\u001b[0m     \u001b[38;5;28;01mraise\u001b[39;00m exc\n\u001b[0;32m   2091\u001b[0m \u001b[38;5;28;01mif\u001b[39;00m errors \u001b[38;5;241m==\u001b[39m \u001b[38;5;124m\"\u001b[39m\u001b[38;5;124mskip\u001b[39m\u001b[38;5;124m\"\u001b[39m:\n\u001b[0;32m   2092\u001b[0m     bad_keys\u001b[38;5;241m.\u001b[39madd(key)\n",
      "\u001b[1;31mCancelledError\u001b[0m: ('store-map-52016ac13d71f3bf66124520c4ae003c', 0, 3, 0)"
     ]
    }
   ],
   "source": [
    "# Save results and intermediate variables to disk.\n",
    "pcm.scn.save_dataset('VIS006', base_dir='d:/sat_data/sev/out/', enhance=False, dtype=np.float32)"
   ]
  },
  {
   "cell_type": "code",
   "execution_count": null,
   "id": "7c7b64fb",
   "metadata": {},
   "outputs": [],
   "source": []
  }
 ],
 "metadata": {
  "kernelspec": {
   "display_name": "Python 3 (ipykernel)",
   "language": "python",
   "name": "python3"
  },
  "language_info": {
   "codemirror_mode": {
    "name": "ipython",
    "version": 3
   },
   "file_extension": ".py",
   "mimetype": "text/x-python",
   "name": "python",
   "nbconvert_exporter": "python",
   "pygments_lexer": "ipython3",
   "version": "3.10.6"
  }
 },
 "nbformat": 4,
 "nbformat_minor": 5
}
