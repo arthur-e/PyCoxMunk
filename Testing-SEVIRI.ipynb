{
 "cells": [
  {
   "cell_type": "code",
   "execution_count": 1,
   "id": "c27e8622",
   "metadata": {},
   "outputs": [],
   "source": [
    "%load_ext autoreload\n",
    "%autoreload 2\n",
    "\n",
    "from satpy import Scene, find_files_and_readers\n",
    "from pyresample import create_area_def\n",
    "from PyCoxMunk import PyCoxMunk\n",
    "from datetime import datetime\n",
    "from netCDF4 import Dataset\n",
    "import dask.array as da\n",
    "import xarray as xr\n",
    "import numpy as np\n",
    "\n",
    "def _write_gdal(fname, datas):\n",
    "    from osgeo import gdal\n",
    "    driver = gdal.GetDriverByName(\"GTiff\")\n",
    "    shp = datas.shape\n",
    "    dst_ds = driver.Create(fname,\n",
    "                           shp[1],\n",
    "                           shp[0],\n",
    "                           1,\n",
    "                           gdal.GDT_Float32)\n",
    "    dst_ds.GetRasterBand(1).WriteArray(datas)\n",
    "    del dst_ds\n",
    "    \n",
    "def load_wind(fname, var, ecm_scn=None, ftype='nc', dater=datetime(2000, 1, 1, 0, 0, 0)):\n",
    "    \"\"\"Load wind datasets from a file\n",
    "    Inputs:\n",
    "     - fname: String, the input filename.\n",
    "     - var: String, name of variable to read\n",
    "     - ecm_scn: Scene, an existing scene to save data into. If None, a new Scene is created.\n",
    "     - ftype: String, file type. Currently only netCDF ('nc') is supported.\n",
    "     - dater: DateTime, time to set as Scene start_time.\n",
    "    Returns:\n",
    "      - ecm_scn: Scene, containing 'u10' and 'v10' winds.\"\"\"\n",
    "    if ftype != 'nc':\n",
    "        raise ValueError(\"Only netCDF winds are supported at present.\")\n",
    "    fid = Dataset(fname, 'r')\n",
    "    inv = np.array(fid[var]).squeeze()\n",
    "    lat = np.array(fid['latitude']).squeeze()\n",
    "    lon = np.array(fid['longitude']).squeeze()\n",
    "    if np.nanmax(lon) > 180:\n",
    "        inv = np.roll(inv, np.round(inv.shape[1]/2).astype(int))\n",
    "        lon = lon - 180.\n",
    "    fid.close()\n",
    "    \n",
    "    if ecm_scn is None:\n",
    "        ecm_scn = Scene()\n",
    "    \n",
    "    area_ext = (np.nanmin(lon), np.nanmin(lat), np.nanmax(lon), np.nanmax(lat))\n",
    "    targ_area = create_area_def(\"source_area\",\n",
    "                                \"EPSG:4326\",\n",
    "                                area_extent=area_ext,\n",
    "                                width=inv.shape[1],\n",
    "                                height=inv.shape[0])\n",
    "\n",
    "\n",
    "    ecm_scn[var] = xr.DataArray(da.from_array(inv),\n",
    "                                coords={'y': lat, 'x': lon},\n",
    "                                attrs={'start_time': dater})\n",
    "\n",
    "    ecm_scn[var].attrs['area'] = targ_area\n",
    "    \n",
    "    return ecm_scn"
   ]
  },
  {
   "cell_type": "code",
   "execution_count": 4,
   "id": "28cd1366",
   "metadata": {},
   "outputs": [],
   "source": [
    "sev_fname = 'I:/sat_data/SEV/MSG3-SEVI-MSG15-0100-NA-20160326144242.057000000Z-NA.nat'\n",
    "u10_fname = 'I:/sat_data/SEV/ecmwf-era5_oper_an_sfc_201603261500.10u.nc'\n",
    "v10_fname = 'I:/sat_data/SEV/ecmwf-era5_oper_an_sfc_201603261500.10v.nc'\n",
    "\n",
    "bnames = ['VIS006']\n",
    "\n",
    "scn = Scene([sev_fname], reader='seviri_l1b_native')\n",
    "scn.load(bnames, upper_right_corner='NE')"
   ]
  },
  {
   "cell_type": "code",
   "execution_count": 5,
   "id": "fb118cb5",
   "metadata": {},
   "outputs": [],
   "source": [
    "ecm_scn = load_wind(u10_fname, 'u10', ecm_scn=None)\n",
    "ecm_scn = load_wind(v10_fname, 'v10', ecm_scn=ecm_scn)"
   ]
  },
  {
   "cell_type": "code",
   "execution_count": 6,
   "id": "feb04898",
   "metadata": {},
   "outputs": [
    {
     "name": "stderr",
     "output_type": "stream",
     "text": [
      "E:\\miniconda3\\lib\\site-packages\\pyresample\\gradient\\__init__.py:56: UserWarning: You are using the Gradient Search Resampler, which is still EXPERIMENTAL.\n",
      "  warnings.warn(\"You are using the Gradient Search Resampler, which is still EXPERIMENTAL.\")\n",
      "E:\\miniconda3\\lib\\site-packages\\pyproj\\crs\\crs.py:1282: UserWarning: You will likely lose important projection information when converting to a PROJ string from another format. See: https://proj.org/faq.html#what-is-the-best-format-for-describing-coordinate-reference-systems\n",
      "  proj = self._crs.to_proj4(version=version)\n",
      "E:\\miniconda3\\lib\\site-packages\\pyproj\\crs\\crs.py:1282: UserWarning: You will likely lose important projection information when converting to a PROJ string from another format. See: https://proj.org/faq.html#what-is-the-best-format-for-describing-coordinate-reference-systems\n",
      "  proj = self._crs.to_proj4(version=version)\n",
      "E:\\miniconda3\\lib\\site-packages\\pyproj\\crs\\crs.py:1282: UserWarning: You will likely lose important projection information when converting to a PROJ string from another format. See: https://proj.org/faq.html#what-is-the-best-format-for-describing-coordinate-reference-systems\n",
      "  proj = self._crs.to_proj4(version=version)\n",
      "E:\\miniconda3\\lib\\site-packages\\pyproj\\crs\\crs.py:1282: UserWarning: You will likely lose important projection information when converting to a PROJ string from another format. See: https://proj.org/faq.html#what-is-the-best-format-for-describing-coordinate-reference-systems\n",
      "  proj = self._crs.to_proj4(version=version)\n",
      "E:\\miniconda3\\lib\\site-packages\\pyproj\\crs\\crs.py:1282: UserWarning: You will likely lose important projection information when converting to a PROJ string from another format. See: https://proj.org/faq.html#what-is-the-best-format-for-describing-coordinate-reference-systems\n",
      "  proj = self._crs.to_proj4(version=version)\n"
     ]
    }
   ],
   "source": [
    "ecm_scn2 = ecm_scn.resample(scn[bnames[0]].attrs['area'], resampler='gradient_search')"
   ]
  },
  {
   "cell_type": "code",
   "execution_count": 7,
   "id": "122fdbf8",
   "metadata": {},
   "outputs": [],
   "source": [
    "scn['u10'] = ecm_scn2['u10'].copy()\n",
    "scn['v10'] = ecm_scn2['v10'].copy()"
   ]
  },
  {
   "cell_type": "code",
   "execution_count": 9,
   "id": "e1c4a155",
   "metadata": {},
   "outputs": [
    {
     "name": "stderr",
     "output_type": "stream",
     "text": [
      "C:\\Users\\Simon\\PycharmProjects\\PyCoxMunk\\PyCoxMunk\\src\\CM_SceneGeom.py:190: UserWarning: Some solar zenith values out of range. Clipping.\n",
      "  warnings.warn(\"Some solar zenith values out of range. Clipping.\")\n",
      "C:\\Users\\Simon\\PycharmProjects\\PyCoxMunk\\PyCoxMunk\\src\\CM_SceneGeom.py:200: UserWarning: Some satellite zenith values out of range. Clipping.\n",
      "  warnings.warn(\"Some satellite zenith values out of range. Clipping.\")\n",
      "C:\\Users\\Simon\\PycharmProjects\\PyCoxMunk\\PyCoxMunk\\src\\CM_SceneGeom.py:210: UserWarning: Some solar azimuth values out of range. Scaling.\n",
      "  warnings.warn(\"Some solar azimuth values out of range. Scaling.\")\n"
     ]
    }
   ],
   "source": [
    "pcm = PyCoxMunk(scn, bnames, angle_names='calc', delete_when_done=False, mask_bad=False)\n",
    "pcm.setup_wind(scn['u10'], scn['v10'])"
   ]
  },
  {
   "cell_type": "code",
   "execution_count": 10,
   "id": "3d7343d9",
   "metadata": {},
   "outputs": [],
   "source": [
    "pcm.retr_coxmunk_refl()"
   ]
  },
  {
   "cell_type": "code",
   "execution_count": 11,
   "id": "6f2c3cbc",
   "metadata": {},
   "outputs": [],
   "source": [
    "pcm.scn.save_datasets(base_dir='I:/', enhance=False, dtype=np.float32)"
   ]
  },
  {
   "cell_type": "code",
   "execution_count": null,
   "id": "b5555169",
   "metadata": {},
   "outputs": [],
   "source": []
  }
 ],
 "metadata": {
  "kernelspec": {
   "display_name": "Python 3 (ipykernel)",
   "language": "python",
   "name": "python3"
  },
  "language_info": {
   "codemirror_mode": {
    "name": "ipython",
    "version": 3
   },
   "file_extension": ".py",
   "mimetype": "text/x-python",
   "name": "python",
   "nbconvert_exporter": "python",
   "pygments_lexer": "ipython3",
   "version": "3.9.12"
  }
 },
 "nbformat": 4,
 "nbformat_minor": 5
}
