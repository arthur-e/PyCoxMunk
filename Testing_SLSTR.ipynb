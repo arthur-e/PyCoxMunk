{
 "cells": [
  {
   "cell_type": "code",
   "execution_count": 1,
   "id": "c27e8622",
   "metadata": {},
   "outputs": [],
   "source": [
    "%load_ext autoreload\n",
    "%autoreload 2\n",
    "\n",
    "from satpy import Scene, find_files_and_readers\n",
    "from PyCoxMunk import PyCoxMunk\n",
    "import numpy as np"
   ]
  },
  {
   "cell_type": "code",
   "execution_count": 2,
   "id": "37b0e424",
   "metadata": {},
   "outputs": [],
   "source": [
    "bnames = ['S1', 'S2', 'S3']"
   ]
  },
  {
   "cell_type": "code",
   "execution_count": 3,
   "id": "28cd1366",
   "metadata": {},
   "outputs": [],
   "source": [
    "scn = Scene(find_files_and_readers(base_dir='D:/data/SLSTR/', reader='slstr_l1b'))\n",
    "scn.load(bnames)\n",
    "scn.load(['solar_zenith_angle',\n",
    "          'solar_azimuth_angle',\n",
    "          'satellite_zenith_angle',\n",
    "          'satellite_azimuth_angle'])"
   ]
  },
  {
   "cell_type": "code",
   "execution_count": 4,
   "id": "3d555065",
   "metadata": {},
   "outputs": [
    {
     "name": "stdout",
     "output_type": "stream",
     "text": [
      "TESTING\n"
     ]
    }
   ],
   "source": [
    "print(\"TESTING\")\n",
    "pcm = PyCoxMunk(scn, bnames)"
   ]
  },
  {
   "cell_type": "code",
   "execution_count": 24,
   "id": "d21f1c78",
   "metadata": {},
   "outputs": [],
   "source": [
    "pcm.setup_wind(1., 1.)"
   ]
  },
  {
   "cell_type": "code",
   "execution_count": 25,
   "id": "ab714a7c",
   "metadata": {},
   "outputs": [],
   "source": [
    "pcm.retr_coxmunk_refl()"
   ]
  },
  {
   "cell_type": "code",
   "execution_count": 26,
   "id": "136378a9",
   "metadata": {},
   "outputs": [
    {
     "name": "stderr",
     "output_type": "stream",
     "text": [
      "C:\\miniconda\\lib\\site-packages\\rasterio\\__init__.py:230: NotGeoreferencedWarning: Dataset has no geotransform, gcps, or rpcs. The identity matrix be returned.\n",
      "  s = writer(path, mode, driver=driver,\n",
      "C:\\miniconda\\lib\\site-packages\\rasterio\\__init__.py:230: NotGeoreferencedWarning: Dataset has no geotransform, gcps, or rpcs. The identity matrix be returned.\n",
      "  s = writer(path, mode, driver=driver,\n",
      "C:\\miniconda\\lib\\site-packages\\rasterio\\__init__.py:230: NotGeoreferencedWarning: Dataset has no geotransform, gcps, or rpcs. The identity matrix be returned.\n",
      "  s = writer(path, mode, driver=driver,\n",
      "C:\\miniconda\\lib\\site-packages\\rasterio\\__init__.py:230: NotGeoreferencedWarning: Dataset has no geotransform, gcps, or rpcs. The identity matrix be returned.\n",
      "  s = writer(path, mode, driver=driver,\n",
      "C:\\miniconda\\lib\\site-packages\\rasterio\\__init__.py:230: NotGeoreferencedWarning: Dataset has no geotransform, gcps, or rpcs. The identity matrix be returned.\n",
      "  s = writer(path, mode, driver=driver,\n",
      "C:\\miniconda\\lib\\site-packages\\rasterio\\__init__.py:230: NotGeoreferencedWarning: Dataset has no geotransform, gcps, or rpcs. The identity matrix be returned.\n",
      "  s = writer(path, mode, driver=driver,\n"
     ]
    }
   ],
   "source": [
    "pcm.scn.save_dataset('S1', base_dir='D:/', enhance=False, dtype=np.float32)\n",
    "pcm.scn.save_dataset('cox_munk_refl_S1', base_dir='D:/', enhance=False, dtype=np.float32)\n",
    "pcm.scn.save_dataset('solar_zenith_angle', base_dir='D:/', enhance=False, dtype=np.float32)\n",
    "pcm.scn.save_dataset('solar_azimuth_angle', base_dir='D:/', enhance=False, dtype=np.float32)\n",
    "pcm.scn.save_dataset('satellite_zenith_angle', base_dir='D:/', enhance=False, dtype=np.float32)\n",
    "pcm.scn.save_dataset('satellite_azimuth_angle', base_dir='D:/', enhance=False, dtype=np.float32)"
   ]
  },
  {
   "cell_type": "code",
   "execution_count": null,
   "id": "d4cf5180",
   "metadata": {},
   "outputs": [],
   "source": []
  }
 ],
 "metadata": {
  "kernelspec": {
   "display_name": "Python 3 (ipykernel)",
   "language": "python",
   "name": "python3"
  },
  "language_info": {
   "codemirror_mode": {
    "name": "ipython",
    "version": 3
   },
   "file_extension": ".py",
   "mimetype": "text/x-python",
   "name": "python",
   "nbconvert_exporter": "python",
   "pygments_lexer": "ipython3",
   "version": "3.9.12"
  }
 },
 "nbformat": 4,
 "nbformat_minor": 5
}
